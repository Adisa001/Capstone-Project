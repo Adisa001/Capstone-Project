{
 "cells": [
  {
   "cell_type": "code",
   "execution_count": null,
   "id": "701431a0",
   "metadata": {},
   "outputs": [],
   "source": [
    "SELECT HotelName\n",
    "FROM Data2\n",
    "WHERE ContinentalBreakfast = 'Yes';"
   ]
  },
  {
   "cell_type": "code",
   "execution_count": null,
   "id": "e95c48d8",
   "metadata": {},
   "outputs": [],
   "source": [
    "SELECT HotelName\n",
    "FROM Data2\n",
    "WHERE Heating = 'Yes' AND Lift = 'Yes' AND Bar = 'Yes';"
   ]
  },
  {
   "cell_type": "code",
   "execution_count": null,
   "id": "d52a8780",
   "metadata": {},
   "outputs": [],
   "source": [
    "SELECT HotelName, RoomType, DoubleBed, Prices\n",
    "FROM Data3\n",
    "WHERE DoubleBed = 'Yes'\n",
    "ORDER BY Prices DESC;"
   ]
  },
  {
   "cell_type": "code",
   "execution_count": null,
   "id": "9c89d291",
   "metadata": {},
   "outputs": [],
   "source": [
    "SELECT RoomType, AVG(Prices) AS AveragePrice\n",
    "FROM Data3\n",
    "GROUP BY RoomType;"
   ]
  },
  {
   "cell_type": "code",
   "execution_count": null,
   "id": "ade8c8e5",
   "metadata": {},
   "outputs": [],
   "source": [
    "SELECT t1.HotelName\n",
    "FROM Data1 t1\n",
    "JOIN Data2 t2 ON t1.HotelName = t2.HotelName\n",
    "WHERE t1.UserRating > 5 AND t2.FreeWiFi = 'Yes';"
   ]
  },
  {
   "cell_type": "code",
   "execution_count": null,
   "id": "63384aa1",
   "metadata": {},
   "outputs": [],
   "source": [
    "SELECT t1.HotelName\n",
    "FROM Data1 t1\n",
    "JOIN Data2 t2 ON t1.HotelName = t2.HotelName\n",
    "WHERE t2.FamilyRooms = 'Yes' AND t2.NonSmokingRooms = 'Yes';"
   ]
  },
  {
   "cell_type": "code",
   "execution_count": null,
   "id": "4c02e0d2",
   "metadata": {},
   "outputs": [],
   "source": [
    "SELECT t2.RoomType, AVG(t3.Prices) AS AveragePrice\n",
    "FROM Data2 t2\n",
    "JOIN Data3 t3 ON t2.HotelName = t3.HotelName\n",
    "GROUP BY t2.RoomType;"
   ]
  }
 ],
 "metadata": {
  "kernelspec": {
   "display_name": "Python 3 (ipykernel)",
   "language": "python",
   "name": "python3"
  },
  "language_info": {
   "codemirror_mode": {
    "name": "ipython",
    "version": 3
   },
   "file_extension": ".py",
   "mimetype": "text/x-python",
   "name": "python",
   "nbconvert_exporter": "python",
   "pygments_lexer": "ipython3",
   "version": "3.9.13"
  }
 },
 "nbformat": 4,
 "nbformat_minor": 5
}
