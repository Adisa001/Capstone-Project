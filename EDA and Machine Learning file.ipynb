{
 "cells": [
  {
   "cell_type": "code",
   "execution_count": null,
   "id": "112736e3",
   "metadata": {},
   "outputs": [],
   "source": [
    "data1 = pd.read_csv('Data1.csv')\n",
    "data2 = pd.read_csv('Data2.csv')\n",
    "data3 = pd.read_csv('Data3.csv')\n"
   ]
  },
  {
   "cell_type": "code",
   "execution_count": null,
   "id": "fd899bb4",
   "metadata": {},
   "outputs": [],
   "source": [
    "merged_data = pd.merge(data1, data2, on='HotelName', how='inner')\n",
    "merged_data = pd.merge(merged_data, data3, on='HotelName', how='inner')"
   ]
  },
  {
   "cell_type": "code",
   "execution_count": null,
   "id": "41223329",
   "metadata": {},
   "outputs": [],
   "source": [
    "merged_data.dropna(inplace=True)"
   ]
  },
  {
   "cell_type": "code",
   "execution_count": null,
   "id": "5b955fc3",
   "metadata": {
    "collapsed": true
   },
   "outputs": [],
   "source": [
    "import seaborn as sns\n",
    "import matplotlib.pyplot as plt\n",
    "\n",
    "sns.pairplot(merged_data)\n",
    "plt.show()"
   ]
  },
  {
   "cell_type": "code",
   "execution_count": null,
   "id": "4091ac6a",
   "metadata": {},
   "outputs": [],
   "source": [
    "correlation = merged_data.corr()\n",
    "sns.heatmap(correlation, annot=True)\n",
    "plt.show()"
   ]
  },
  {
   "cell_type": "code",
   "execution_count": null,
   "id": "6a90e3ed",
   "metadata": {},
   "outputs": [],
   "source": [
    "X = merged_data.drop(['Price', 'ReviewScore'], axis=1)\n",
    "y_price = merged_data['Price']\n",
    "y_review_score = merged_data['ReviewScore']"
   ]
  },
  {
   "cell_type": "code",
   "execution_count": null,
   "id": "51022e46",
   "metadata": {},
   "outputs": [],
   "source": [
    "from sklearn.preprocessing import StandardScaler\n",
    "\n",
    "scaler = StandardScaler()\n",
    "X_scaled = scaler.fit_transform(X)"
   ]
  },
  {
   "cell_type": "code",
   "execution_count": null,
   "id": "1cb5fd93",
   "metadata": {},
   "outputs": [],
   "source": [
    "from sklearn.model_selection import train_test_split\n",
    "\n",
    "X_train, X_test, y_price_train, y_price_test, y_review_train, y_review_test = train_test_split(X_scaled, y_price, y_review_score, test_size=0.2, random_state=42)"
   ]
  },
  {
   "cell_type": "code",
   "execution_count": null,
   "id": "168834c0",
   "metadata": {},
   "outputs": [],
   "source": [
    "from sklearn.ensemble import RandomForestRegressor, RandomForestClassifier\n",
    "from sklearn.metrics import mean_squared_error, accuracy_score\n",
    "from sklearn.model_selection import GridSearchCV\n",
    "\n",
    "price_model = RandomForestRegressor()\n",
    "price_model.fit(X_train, y_price_train)\n",
    "\n",
    "review_model = RandomForestClassifier()\n",
    "review_model.fit(X_train, y_review_train)"
   ]
  },
  {
   "cell_type": "code",
   "execution_count": null,
   "id": "afa873b1",
   "metadata": {},
   "outputs": [],
   "source": [
    "param_grid = {'n_estimators': [100, 200, 300], 'max_depth': [None, 10, 20]}\n",
    "\n",
    "grid_price = GridSearchCV(price_model, param_grid, cv=5)\n",
    "grid_review = GridSearchCV(review_model, param_grid cv=5)\n",
    "\n",
    "grid_price.fit(X_train, y_price_train)\n",
    "grid_review.fit(X_train, y_review_train)\n"
   ]
  },
  {
   "cell_type": "code",
   "execution_count": null,
   "id": "c3291311",
   "metadata": {},
   "outputs": [],
   "source": [
    "price_pred = grid_price.predict(X_test)\n",
    "price_rmse = mean_squared_error(y_price_test, price_pred, squared=False)\n",
    "\n",
    "review_pred = grid_review.predict(X_test)\n",
    "review_accuracy = accuracy_score(y_review_test, review_pred)"
   ]
  },
  {
   "cell_type": "code",
   "execution_count": null,
   "id": "7697d125",
   "metadata": {},
   "outputs": [],
   "source": [
    "import joblib\n",
    "\n",
    "joblib.dump(grid_price.best_estimator_, 'best_price_model.pkl')\n",
    "joblib.dump(grid_review.best_estimator_, 'best_review_model.pkl')\n",
    "\n",
    "print(f'Price Prediction RMSE: {price_rmse}')\n",
    "print(f'Review Score Prediction Accuracy: {review_accuracy}')"
   ]
  }
 ],
 "metadata": {
  "kernelspec": {
   "display_name": "Python 3 (ipykernel)",
   "language": "python",
   "name": "python3"
  },
  "language_info": {
   "codemirror_mode": {
    "name": "ipython",
    "version": 3
   },
   "file_extension": ".py",
   "mimetype": "text/x-python",
   "name": "python",
   "nbconvert_exporter": "python",
   "pygments_lexer": "ipython3",
   "version": "3.9.13"
  }
 },
 "nbformat": 4,
 "nbformat_minor": 5
}
